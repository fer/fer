{
 "cells": [
  {
   "cell_type": "markdown",
   "id": "boxed-champion",
   "metadata": {},
   "source": [
    "# Over The Wire: Natas"
   ]
  },
  {
   "cell_type": "markdown",
   "id": "stock-table",
   "metadata": {},
   "source": [
    "## Level 0\n",
    "\n",
    "Username: natas0\n",
    "Password: natas0\n",
    "URL:      http://natas0.natas.labs.overthewire.org"
   ]
  },
  {
   "cell_type": "code",
   "execution_count": 1,
   "id": "coordinated-handbook",
   "metadata": {},
   "outputs": [
    {
     "name": "stdout",
     "output_type": "stream",
     "text": [
      "<html>\n",
      "<head>\n",
      "<!-- This stuff in the header has nothing to do with the level -->\n",
      "<link rel=\"stylesheet\" type=\"text/css\" href=\"http://natas.labs.overthewire.org/css/level.css\">\n",
      "<link rel=\"stylesheet\" href=\"http://natas.labs.overthewire.org/css/jquery-ui.css\" />\n",
      "<link rel=\"stylesheet\" href=\"http://natas.labs.overthewire.org/css/wechall.css\" />\n",
      "<script src=\"http://natas.labs.overthewire.org/js/jquery-1.9.1.js\"></script>\n",
      "<script src=\"http://natas.labs.overthewire.org/js/jquery-ui.js\"></script>\n",
      "<script src=http://natas.labs.overthewire.org/js/wechall-data.js></script><script src=\"http://natas.labs.overthewire.org/js/wechall.js\"></script>\n",
      "<script>var wechallinfo = { \"level\": \"natas0\", \"pass\": \"natas0\" };</script></head>\n",
      "<body>\n",
      "<h1>natas0</h1>\n",
      "<div id=\"content\">\n",
      "You can find the password for the next level on this page.\n",
      "\n",
      "<!--The password for natas1 is gtVrDuiDfck831PqWsLEZy5gyDz1clto -->\n",
      "</div>\n",
      "</body>\n",
      "</html>\n",
      "\n"
     ]
    }
   ],
   "source": [
    "curl -u natas0:natas0 http://natas0.natas.labs.overthewire.org"
   ]
  },
  {
   "cell_type": "markdown",
   "id": "passive-haven",
   "metadata": {},
   "source": [
    "## Level 0 → Level 1\n",
    "\n",
    "Username: natas1\n",
    "URL:      http://natas1.natas.labs.overthewire.org"
   ]
  },
  {
   "cell_type": "code",
   "execution_count": 3,
   "id": "recent-maria",
   "metadata": {},
   "outputs": [
    {
     "name": "stdout",
     "output_type": "stream",
     "text": [
      "<html>\n",
      "<head>\n",
      "<!-- This stuff in the header has nothing to do with the level -->\n",
      "<link rel=\"stylesheet\" type=\"text/css\" href=\"http://natas.labs.overthewire.org/css/level.css\">\n",
      "<link rel=\"stylesheet\" href=\"http://natas.labs.overthewire.org/css/jquery-ui.css\" />\n",
      "<link rel=\"stylesheet\" href=\"http://natas.labs.overthewire.org/css/wechall.css\" />\n",
      "<script src=\"http://natas.labs.overthewire.org/js/jquery-1.9.1.js\"></script>\n",
      "<script src=\"http://natas.labs.overthewire.org/js/jquery-ui.js\"></script>\n",
      "<script src=http://natas.labs.overthewire.org/js/wechall-data.js></script><script src=\"http://natas.labs.overthewire.org/js/wechall.js\"></script>\n",
      "<script>var wechallinfo = { \"level\": \"natas1\", \"pass\": \"gtVrDuiDfck831PqWsLEZy5gyDz1clto\" };</script></head>\n",
      "<body oncontextmenu=\"javascript:alert('right clicking has been blocked!');return false;\">\n",
      "<h1>natas1</h1>\n",
      "<div id=\"content\">\n",
      "You can find the password for the\n",
      "next level on this page, but rightclicking has been blocked!\n",
      "\n",
      "<!--The password for natas2 is ZluruAthQk7Q2MqmDeTiUij2ZvWy2mBi -->\n",
      "</div>\n",
      "</body>\n",
      "</html>\n",
      "\n"
     ]
    }
   ],
   "source": [
    "curl -u natas1:gtVrDuiDfck831PqWsLEZy5gyDz1clto http://natas1.natas.labs.overthewire.org"
   ]
  },
  {
   "cell_type": "markdown",
   "id": "binary-swimming",
   "metadata": {},
   "source": [
    "## Level 1 → Level 2\n",
    "\n",
    "Username: natas2\n",
    "URL:      http://natas2.natas.labs.overthewire.org"
   ]
  },
  {
   "cell_type": "code",
   "execution_count": 4,
   "id": "given-business",
   "metadata": {},
   "outputs": [
    {
     "name": "stdout",
     "output_type": "stream",
     "text": [
      "# username:password\n",
      "alice:BYNdCesZqW\n",
      "bob:jw2ueICLvT\n",
      "charlie:G5vCxkVV3m\n",
      "natas3:sJIJNW6ucpu6HPZ1ZAchaDtwd7oGrD14\n",
      "eve:zo4mJWyNj2\n",
      "mallory:9urtcpzBmH\n"
     ]
    }
   ],
   "source": [
    "curl -u natas2:ZluruAthQk7Q2MqmDeTiUij2ZvWy2mBi http://natas2.natas.labs.overthewire.org/files/users.txt"
   ]
  },
  {
   "cell_type": "markdown",
   "id": "white-amsterdam",
   "metadata": {},
   "source": [
    "## Level 2 → Level 3\n",
    "\n",
    "Username: natas3\n",
    "URL:      http://natas3.natas.labs.overthewire.org"
   ]
  },
  {
   "cell_type": "code",
   "execution_count": 5,
   "id": "virgin-rating",
   "metadata": {},
   "outputs": [
    {
     "name": "stdout",
     "output_type": "stream",
     "text": [
      "User-agent: *\n",
      "Disallow: /s3cr3t/\n"
     ]
    }
   ],
   "source": [
    "curl -u natas3:sJIJNW6ucpu6HPZ1ZAchaDtwd7oGrD14 http://natas3.natas.labs.overthewire.org/robots.txt"
   ]
  },
  {
   "cell_type": "code",
   "execution_count": 6,
   "id": "collect-republican",
   "metadata": {},
   "outputs": [
    {
     "name": "stdout",
     "output_type": "stream",
     "text": [
      "natas4:Z9tkRkWmpt9Qr7XrR5jWRkgOU901swEZ\n"
     ]
    }
   ],
   "source": [
    "curl -u natas3:sJIJNW6ucpu6HPZ1ZAchaDtwd7oGrD14 http://natas3.natas.labs.overthewire.org/s3cr3t/users.txt"
   ]
  },
  {
   "cell_type": "markdown",
   "id": "featured-prisoner",
   "metadata": {},
   "source": [
    "## Level 3 → Level 4\n",
    "\n",
    "Username: natas4\n",
    "URL:      http://natas4.natas.labs.overthewire.org"
   ]
  }
 ],
 "metadata": {
  "kernelspec": {
   "display_name": "Bash",
   "language": "bash",
   "name": "bash"
  },
  "language_info": {
   "codemirror_mode": "shell",
   "file_extension": ".sh",
   "mimetype": "text/x-sh",
   "name": "bash"
  }
 },
 "nbformat": 4,
 "nbformat_minor": 5
}
